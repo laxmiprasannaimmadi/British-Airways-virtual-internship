{
 "cells": [
  {
   "cell_type": "markdown",
   "id": "12e3e8a9-61fb-46fe-908a-0e112e29a14b",
   "metadata": {},
   "source": [
    "Data Cleaning"
   ]
  },
  {
   "cell_type": "markdown",
   "id": "e0c2520a-4b24-4566-b4da-e03bff972eaa",
   "metadata": {},
   "source": [
    "Now since we have extracted data from the website, it is not cleaned and ready to be analyzed yet. The reviews section will need to be cleaned for punctuations, spellings and other characters."
   ]
  },
  {
   "cell_type": "code",
   "execution_count": 29,
   "id": "eeec1535-0bd4-43d6-b652-f51436d7f7b7",
   "metadata": {},
   "outputs": [],
   "source": [
    "#imports\n",
    "\n",
    "import pandas as pd\n",
    "import matplotlib.pyplot as plt\n",
    "import seaborn as sns\n",
    "import os\n",
    "\n",
    "#regex\n",
    "import re"
   ]
  },
  {
   "cell_type": "code",
   "execution_count": 30,
   "id": "ad85a5ea-4ad6-4666-b478-b09671b6548f",
   "metadata": {},
   "outputs": [],
   "source": [
    "#create a dataframe from csv file\n",
    "\n",
    "cwd = os.getcwd()\n",
    "\n",
    "df = pd.read_csv(cwd+\"/BA_reviews.csv\", index_col=0)"
   ]
  },
  {
   "cell_type": "code",
   "execution_count": 31,
   "id": "11c77cea-eda1-41ad-8703-6371a48eb8a6",
   "metadata": {},
   "outputs": [
    {
     "data": {
      "text/html": [
       "<div>\n",
       "<style scoped>\n",
       "    .dataframe tbody tr th:only-of-type {\n",
       "        vertical-align: middle;\n",
       "    }\n",
       "\n",
       "    .dataframe tbody tr th {\n",
       "        vertical-align: top;\n",
       "    }\n",
       "\n",
       "    .dataframe thead th {\n",
       "        text-align: right;\n",
       "    }\n",
       "</style>\n",
       "<table border=\"1\" class=\"dataframe\">\n",
       "  <thead>\n",
       "    <tr style=\"text-align: right;\">\n",
       "      <th></th>\n",
       "      <th>reviews</th>\n",
       "      <th>stars</th>\n",
       "      <th>date</th>\n",
       "      <th>country</th>\n",
       "    </tr>\n",
       "  </thead>\n",
       "  <tbody>\n",
       "    <tr>\n",
       "      <th>0</th>\n",
       "      <td>✅ Trip Verified |   I had visa issues, and hen...</td>\n",
       "      <td>5.0</td>\n",
       "      <td>5th November 2024</td>\n",
       "      <td>India</td>\n",
       "    </tr>\n",
       "    <tr>\n",
       "      <th>1</th>\n",
       "      <td>✅ Trip Verified |   Singapore to Heathrow with...</td>\n",
       "      <td>1.0</td>\n",
       "      <td>5th November 2024</td>\n",
       "      <td>United Kingdom</td>\n",
       "    </tr>\n",
       "    <tr>\n",
       "      <th>2</th>\n",
       "      <td>✅ Trip Verified |   I recently travelled from ...</td>\n",
       "      <td>6.0</td>\n",
       "      <td>3rd November 2024</td>\n",
       "      <td>United Kingdom</td>\n",
       "    </tr>\n",
       "    <tr>\n",
       "      <th>3</th>\n",
       "      <td>Not Verified |  I paid for seats 80 A and B on...</td>\n",
       "      <td>1.0</td>\n",
       "      <td>3rd November 2024</td>\n",
       "      <td>United States</td>\n",
       "    </tr>\n",
       "    <tr>\n",
       "      <th>4</th>\n",
       "      <td>Not Verified | The flight wasn’t that bad, alt...</td>\n",
       "      <td>3.0</td>\n",
       "      <td>3rd November 2024</td>\n",
       "      <td>United Kingdom</td>\n",
       "    </tr>\n",
       "  </tbody>\n",
       "</table>\n",
       "</div>"
      ],
      "text/plain": [
       "                                             reviews  stars  \\\n",
       "0  ✅ Trip Verified |   I had visa issues, and hen...    5.0   \n",
       "1  ✅ Trip Verified |   Singapore to Heathrow with...    1.0   \n",
       "2  ✅ Trip Verified |   I recently travelled from ...    6.0   \n",
       "3  Not Verified |  I paid for seats 80 A and B on...    1.0   \n",
       "4  Not Verified | The flight wasn’t that bad, alt...    3.0   \n",
       "\n",
       "                date         country  \n",
       "0  5th November 2024           India  \n",
       "1  5th November 2024  United Kingdom  \n",
       "2  3rd November 2024  United Kingdom  \n",
       "3  3rd November 2024   United States  \n",
       "4  3rd November 2024  United Kingdom  "
      ]
     },
     "execution_count": 31,
     "metadata": {},
     "output_type": "execute_result"
    }
   ],
   "source": [
    "df.head()"
   ]
  },
  {
   "cell_type": "code",
   "execution_count": 32,
   "id": "30565ab1-eca0-42a0-b967-ba84324c66da",
   "metadata": {},
   "outputs": [
    {
     "data": {
      "text/plain": [
       "reviews     object\n",
       "stars      float64\n",
       "date        object\n",
       "country     object\n",
       "dtype: object"
      ]
     },
     "execution_count": 32,
     "metadata": {},
     "output_type": "execute_result"
    }
   ],
   "source": [
    "df.dtypes"
   ]
  },
  {
   "cell_type": "markdown",
   "id": "1da9b012-17a6-4070-a2db-749dea6ce754",
   "metadata": {},
   "source": [
    "We will also create a column which mentions if the user is verified or not."
   ]
  },
  {
   "cell_type": "code",
   "execution_count": 4,
   "id": "280f4a7e-e796-4078-8bf7-2dd697979648",
   "metadata": {},
   "outputs": [],
   "source": [
    "df['verified']  = df.reviews.str.contains(\"Trip Verified\")"
   ]
  },
  {
   "cell_type": "code",
   "execution_count": 5,
   "id": "a07adfca-6afc-4564-a206-fede851e8f2c",
   "metadata": {},
   "outputs": [
    {
     "data": {
      "text/plain": [
       "0        True\n",
       "1        True\n",
       "2        True\n",
       "3       False\n",
       "4       False\n",
       "        ...  \n",
       "3495    False\n",
       "3496    False\n",
       "3497    False\n",
       "3498    False\n",
       "3499    False\n",
       "Name: verified, Length: 3500, dtype: bool"
      ]
     },
     "execution_count": 5,
     "metadata": {},
     "output_type": "execute_result"
    }
   ],
   "source": [
    "df['verified'] "
   ]
  },
  {
   "cell_type": "markdown",
   "id": "76757271-d37c-498d-877b-2291dbddf924",
   "metadata": {},
   "source": [
    "Cleaning Reviews"
   ]
  },
  {
   "cell_type": "raw",
   "id": "59615986-910c-4097-a168-c0667085f29c",
   "metadata": {},
   "source": [
    "We will extract the column of reviews into a separate dataframe and clean it for semantic analysis"
   ]
  },
  {
   "cell_type": "code",
   "execution_count": 12,
   "id": "5c02e129-0c45-4779-bff8-c9094ac94e14",
   "metadata": {},
   "outputs": [],
   "source": [
    "#for lemmatization of words we will use nltk library\n",
    "from nltk.stem import WordNetLemmatizer\n",
    "from nltk.corpus import stopwords\n",
    "lemma = WordNetLemmatizer()\n",
    "\n",
    "\n",
    "reviews_data = df.reviews.str.strip(\"✅ Trip Verified |\")\n",
    "\n",
    "#create an empty list to collect cleaned data corpus\n",
    "corpus =[]\n",
    "\n",
    "#loop through each review, remove punctuations, small case it, join it and add it to corpus\n",
    "for rev in reviews_data:\n",
    "    rev = re.sub('[^a-zA-Z]',' ', rev)\n",
    "    rev = rev.lower()\n",
    "    rev = rev.split()\n",
    "    rev = [lemma.lemmatize(word) for word in rev if word not in set(stopwords.words(\"english\"))]\n",
    "    rev = \" \".join(rev)\n",
    "    corpus.append(rev)"
   ]
  },
  {
   "cell_type": "code",
   "execution_count": 13,
   "id": "f554eead-d895-46dc-ba92-44cf22db6849",
   "metadata": {},
   "outputs": [],
   "source": [
    "# add the corpus to the original dataframe\n",
    "\n",
    "df['corpus'] = corpus"
   ]
  },
  {
   "cell_type": "code",
   "execution_count": 14,
   "id": "15d69a4d-f113-4b8a-9921-3fba54f78193",
   "metadata": {},
   "outputs": [
    {
     "data": {
      "text/html": [
       "<div>\n",
       "<style scoped>\n",
       "    .dataframe tbody tr th:only-of-type {\n",
       "        vertical-align: middle;\n",
       "    }\n",
       "\n",
       "    .dataframe tbody tr th {\n",
       "        vertical-align: top;\n",
       "    }\n",
       "\n",
       "    .dataframe thead th {\n",
       "        text-align: right;\n",
       "    }\n",
       "</style>\n",
       "<table border=\"1\" class=\"dataframe\">\n",
       "  <thead>\n",
       "    <tr style=\"text-align: right;\">\n",
       "      <th></th>\n",
       "      <th>reviews</th>\n",
       "      <th>stars</th>\n",
       "      <th>date</th>\n",
       "      <th>country</th>\n",
       "      <th>verified</th>\n",
       "      <th>corpus</th>\n",
       "    </tr>\n",
       "  </thead>\n",
       "  <tbody>\n",
       "    <tr>\n",
       "      <th>0</th>\n",
       "      <td>✅ Trip Verified |   I had visa issues, and hen...</td>\n",
       "      <td>5.0</td>\n",
       "      <td>5th November 2024</td>\n",
       "      <td>India</td>\n",
       "      <td>True</td>\n",
       "      <td>visa issue hence debarred flying ground staff ...</td>\n",
       "    </tr>\n",
       "    <tr>\n",
       "      <th>1</th>\n",
       "      <td>✅ Trip Verified |   Singapore to Heathrow with...</td>\n",
       "      <td>1.0</td>\n",
       "      <td>5th November 2024</td>\n",
       "      <td>United Kingdom</td>\n",
       "      <td>True</td>\n",
       "      <td>singapore heathrow ba two choice route economy...</td>\n",
       "    </tr>\n",
       "    <tr>\n",
       "      <th>2</th>\n",
       "      <td>✅ Trip Verified |   I recently travelled from ...</td>\n",
       "      <td>6.0</td>\n",
       "      <td>3rd November 2024</td>\n",
       "      <td>United Kingdom</td>\n",
       "      <td>True</td>\n",
       "      <td>recently travelled munich london british airwa...</td>\n",
       "    </tr>\n",
       "    <tr>\n",
       "      <th>3</th>\n",
       "      <td>Not Verified |  I paid for seats 80 A and B on...</td>\n",
       "      <td>1.0</td>\n",
       "      <td>3rd November 2024</td>\n",
       "      <td>United States</td>\n",
       "      <td>False</td>\n",
       "      <td>verified paid seat b flight heathrow boston pa...</td>\n",
       "    </tr>\n",
       "    <tr>\n",
       "      <th>4</th>\n",
       "      <td>Not Verified | The flight wasn’t that bad, alt...</td>\n",
       "      <td>3.0</td>\n",
       "      <td>3rd November 2024</td>\n",
       "      <td>United Kingdom</td>\n",
       "      <td>False</td>\n",
       "      <td>verified flight bad although inflight entertai...</td>\n",
       "    </tr>\n",
       "  </tbody>\n",
       "</table>\n",
       "</div>"
      ],
      "text/plain": [
       "                                             reviews  stars  \\\n",
       "0  ✅ Trip Verified |   I had visa issues, and hen...    5.0   \n",
       "1  ✅ Trip Verified |   Singapore to Heathrow with...    1.0   \n",
       "2  ✅ Trip Verified |   I recently travelled from ...    6.0   \n",
       "3  Not Verified |  I paid for seats 80 A and B on...    1.0   \n",
       "4  Not Verified | The flight wasn’t that bad, alt...    3.0   \n",
       "\n",
       "                date         country  verified  \\\n",
       "0  5th November 2024           India      True   \n",
       "1  5th November 2024  United Kingdom      True   \n",
       "2  3rd November 2024  United Kingdom      True   \n",
       "3  3rd November 2024   United States     False   \n",
       "4  3rd November 2024  United Kingdom     False   \n",
       "\n",
       "                                              corpus  \n",
       "0  visa issue hence debarred flying ground staff ...  \n",
       "1  singapore heathrow ba two choice route economy...  \n",
       "2  recently travelled munich london british airwa...  \n",
       "3  verified paid seat b flight heathrow boston pa...  \n",
       "4  verified flight bad although inflight entertai...  "
      ]
     },
     "execution_count": 14,
     "metadata": {},
     "output_type": "execute_result"
    }
   ],
   "source": [
    "df.head()"
   ]
  },
  {
   "cell_type": "raw",
   "id": "440da3e7-2883-44bb-82e5-200d7091d785",
   "metadata": {},
   "source": [
    "Cleaning/Format date"
   ]
  },
  {
   "cell_type": "code",
   "execution_count": 15,
   "id": "c867d39d-a8b6-4abf-b8f5-6c7b6fccf08d",
   "metadata": {},
   "outputs": [
    {
     "data": {
      "text/plain": [
       "reviews      object\n",
       "stars       float64\n",
       "date         object\n",
       "country      object\n",
       "verified       bool\n",
       "corpus       object\n",
       "dtype: object"
      ]
     },
     "execution_count": 15,
     "metadata": {},
     "output_type": "execute_result"
    }
   ],
   "source": [
    "df.dtypes"
   ]
  },
  {
   "cell_type": "code",
   "execution_count": 23,
   "id": "875f35f5-acb6-4e57-99d6-2a8120137c09",
   "metadata": {},
   "outputs": [],
   "source": [
    "# convert the date to datetime format\n",
    "\n",
    "df.date = pd.to_datetime(df['date'], format='mixed')"
   ]
  },
  {
   "cell_type": "code",
   "execution_count": 24,
   "id": "fbc2d7e4-94f1-42d6-b840-fee48ac21f3a",
   "metadata": {},
   "outputs": [
    {
     "data": {
      "text/plain": [
       "0   2024-11-05\n",
       "1   2024-11-05\n",
       "2   2024-11-03\n",
       "3   2024-11-03\n",
       "4   2024-11-03\n",
       "Name: date, dtype: datetime64[ns]"
      ]
     },
     "execution_count": 24,
     "metadata": {},
     "output_type": "execute_result"
    }
   ],
   "source": [
    "df.date.head()"
   ]
  },
  {
   "cell_type": "raw",
   "id": "be5dc654-c750-415f-a1b7-0700d3f245a0",
   "metadata": {},
   "source": [
    "Cleaning ratings with stars"
   ]
  },
  {
   "cell_type": "code",
   "execution_count": 45,
   "id": "a830127e-0515-413a-93c7-5f3f650f6e50",
   "metadata": {},
   "outputs": [
    {
     "data": {
      "text/plain": [
       "array([ 5.,  1.,  6.,  3.,  7.,  9.,  2.,  8.,  4., 10., nan])"
      ]
     },
     "execution_count": 45,
     "metadata": {},
     "output_type": "execute_result"
    }
   ],
   "source": [
    "#check for unique values\n",
    "df.stars.unique()"
   ]
  },
  {
   "cell_type": "code",
   "execution_count": 46,
   "id": "120e8267-e38a-4497-9c67-a2f1c67733d3",
   "metadata": {},
   "outputs": [
    {
     "data": {
      "text/plain": [
       "stars\n",
       "1.0     879\n",
       "2.0     408\n",
       "3.0     399\n",
       "8.0     339\n",
       "10.0    283\n",
       "7.0     273\n",
       "9.0     265\n",
       "5.0     246\n",
       "4.0     234\n",
       "6.0     171\n",
       "Name: count, dtype: int64"
      ]
     },
     "execution_count": 46,
     "metadata": {},
     "output_type": "execute_result"
    }
   ],
   "source": [
    "df.stars.value_counts()"
   ]
  },
  {
   "cell_type": "raw",
   "id": "ae549a65-fb74-4dfb-b6d6-7a84c74f9538",
   "metadata": {},
   "source": [
    "There is 1 row having values \"None\" in the ratings. We will drop this 1 row."
   ]
  },
  {
   "cell_type": "code",
   "execution_count": 58,
   "id": "2798a49c-d5b2-490c-b290-8b05659dbb76",
   "metadata": {},
   "outputs": [
    {
     "data": {
      "text/html": [
       "<div>\n",
       "<style scoped>\n",
       "    .dataframe tbody tr th:only-of-type {\n",
       "        vertical-align: middle;\n",
       "    }\n",
       "\n",
       "    .dataframe tbody tr th {\n",
       "        vertical-align: top;\n",
       "    }\n",
       "\n",
       "    .dataframe thead th {\n",
       "        text-align: right;\n",
       "    }\n",
       "</style>\n",
       "<table border=\"1\" class=\"dataframe\">\n",
       "  <thead>\n",
       "    <tr style=\"text-align: right;\">\n",
       "      <th></th>\n",
       "      <th>reviews</th>\n",
       "      <th>stars</th>\n",
       "      <th>date</th>\n",
       "      <th>country</th>\n",
       "    </tr>\n",
       "  </thead>\n",
       "  <tbody>\n",
       "    <tr>\n",
       "      <th>0</th>\n",
       "      <td>✅ Trip Verified |   I had visa issues, and hen...</td>\n",
       "      <td>5</td>\n",
       "      <td>5th November 2024</td>\n",
       "      <td>India</td>\n",
       "    </tr>\n",
       "    <tr>\n",
       "      <th>1</th>\n",
       "      <td>✅ Trip Verified |   Singapore to Heathrow with...</td>\n",
       "      <td>1</td>\n",
       "      <td>5th November 2024</td>\n",
       "      <td>United Kingdom</td>\n",
       "    </tr>\n",
       "    <tr>\n",
       "      <th>2</th>\n",
       "      <td>✅ Trip Verified |   I recently travelled from ...</td>\n",
       "      <td>6</td>\n",
       "      <td>3rd November 2024</td>\n",
       "      <td>United Kingdom</td>\n",
       "    </tr>\n",
       "    <tr>\n",
       "      <th>3</th>\n",
       "      <td>Not Verified |  I paid for seats 80 A and B on...</td>\n",
       "      <td>1</td>\n",
       "      <td>3rd November 2024</td>\n",
       "      <td>United States</td>\n",
       "    </tr>\n",
       "    <tr>\n",
       "      <th>4</th>\n",
       "      <td>Not Verified | The flight wasn’t that bad, alt...</td>\n",
       "      <td>3</td>\n",
       "      <td>3rd November 2024</td>\n",
       "      <td>United Kingdom</td>\n",
       "    </tr>\n",
       "  </tbody>\n",
       "</table>\n",
       "</div>"
      ],
      "text/plain": [
       "                                             reviews  stars  \\\n",
       "0  ✅ Trip Verified |   I had visa issues, and hen...      5   \n",
       "1  ✅ Trip Verified |   Singapore to Heathrow with...      1   \n",
       "2  ✅ Trip Verified |   I recently travelled from ...      6   \n",
       "3  Not Verified |  I paid for seats 80 A and B on...      1   \n",
       "4  Not Verified | The flight wasn’t that bad, alt...      3   \n",
       "\n",
       "                date         country  \n",
       "0  5th November 2024           India  \n",
       "1  5th November 2024  United Kingdom  \n",
       "2  3rd November 2024  United Kingdom  \n",
       "3  3rd November 2024   United States  \n",
       "4  3rd November 2024  United Kingdom  "
      ]
     },
     "execution_count": 58,
     "metadata": {},
     "output_type": "execute_result"
    }
   ],
   "source": [
    "df.dropna(subset=[\"stars\"], inplace=True)\n",
    "df['stars'] = df['stars'].astype(int)\n",
    "df.head()"
   ]
  },
  {
   "cell_type": "code",
   "execution_count": 59,
   "id": "7c11682a-e349-4b7f-8d45-ae0027cb78c4",
   "metadata": {},
   "outputs": [
    {
     "data": {
      "text/plain": [
       "array([ 5,  1,  6,  3,  7,  9,  2,  8,  4, 10])"
      ]
     },
     "execution_count": 59,
     "metadata": {},
     "output_type": "execute_result"
    }
   ],
   "source": [
    "#check the unique values again\n",
    "df.stars.unique()"
   ]
  },
  {
   "cell_type": "code",
   "execution_count": null,
   "id": "62dcb364-a4c6-430d-9b9a-c8a0f75ee479",
   "metadata": {},
   "outputs": [],
   "source": []
  }
 ],
 "metadata": {
  "kernelspec": {
   "display_name": "Python 3 (ipykernel)",
   "language": "python",
   "name": "python3"
  },
  "language_info": {
   "codemirror_mode": {
    "name": "ipython",
    "version": 3
   },
   "file_extension": ".py",
   "mimetype": "text/x-python",
   "name": "python",
   "nbconvert_exporter": "python",
   "pygments_lexer": "ipython3",
   "version": "3.11.1"
  }
 },
 "nbformat": 4,
 "nbformat_minor": 5
}
