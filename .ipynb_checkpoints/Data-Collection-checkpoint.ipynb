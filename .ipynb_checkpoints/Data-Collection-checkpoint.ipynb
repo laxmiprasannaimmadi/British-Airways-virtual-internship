{
 "cells": [
  {
   "cell_type": "markdown",
   "metadata": {},
   "source": [
    "Data Collection"
   ]
  },
  {
   "cell_type": "markdown",
   "metadata": {},
   "source": [
    "In this phase, we will collect the customer ratings data from the airline quality website called Skytrax. \n",
    "We will collect data about airline ratings, seat ratings and lounge experience ratings from this website."
   ]
  },
  {
   "cell_type": "code",
   "execution_count": 47,
   "metadata": {},
   "outputs": [],
   "source": [
    "#imports\n",
    "\n",
    "import pandas as pd\n",
    "import numpy as np\n",
    "from bs4 import BeautifulSoup\n",
    "import requests "
   ]
  },
  {
   "cell_type": "code",
   "execution_count": 48,
   "metadata": {},
   "outputs": [],
   "source": [
    "#create an empty list to collect all reviews\n",
    "reviews  = []\n",
    "\n",
    "#create an empty list to collect rating stars\n",
    "stars = []\n",
    "\n",
    "#create an empty list to collect date\n",
    "date = []\n",
    "\n",
    "#create an empty list to collect country the reviewer is from\n",
    "country = []"
   ]
  },
  {
   "cell_type": "code",
   "execution_count": 49,
   "metadata": {},
   "outputs": [
    {
     "name": "stdout",
     "output_type": "stream",
     "text": [
      "Error on page 34\n",
      "Error on page 35\n",
      "Error on page 35\n"
     ]
    }
   ],
   "source": [
    "for i in range(1, 36):\n",
    "    page = requests.get(f\"https://www.airlinequality.com/airline-reviews/british-airways/page/{i}/?sortby=post_date%3ADesc&pagesize=100\")\n",
    "    \n",
    "    soup = BeautifulSoup(page.content, \"html.parser\")\n",
    "    \n",
    "    for item in soup.find_all(\"div\", class_=\"text_content\"):\n",
    "        reviews.append(item.text)\n",
    "    \n",
    "    for item in soup.find_all(\"div\", class_=\"rating-10\"):\n",
    "        try:\n",
    "            stars.append(item.span.text)\n",
    "        except:\n",
    "            print(f\"Error on page {i}\")\n",
    "            stars.append(\"None\")\n",
    "            \n",
    "    #date\n",
    "    for item in soup.find_all(\"time\"):\n",
    "        date.append(item.text)\n",
    "        \n",
    "    #country\n",
    "    for item in soup.find_all(\"h3\"):\n",
    "        country.append(item.span.next_sibling.text.strip(\" ()\"))"
   ]
  },
  {
   "cell_type": "code",
   "execution_count": 50,
   "metadata": {},
   "outputs": [
    {
     "data": {
      "text/plain": [
       "3500"
      ]
     },
     "execution_count": 50,
     "metadata": {},
     "output_type": "execute_result"
    }
   ],
   "source": [
    "#check the length of total reviews extracted\n",
    "len(reviews)"
   ]
  },
  {
   "cell_type": "code",
   "execution_count": 51,
   "metadata": {},
   "outputs": [
    {
     "data": {
      "text/plain": [
       "3500"
      ]
     },
     "execution_count": 51,
     "metadata": {},
     "output_type": "execute_result"
    }
   ],
   "source": [
    "len(country)"
   ]
  },
  {
   "cell_type": "code",
   "execution_count": 52,
   "metadata": {},
   "outputs": [
    {
     "data": {
      "text/plain": [
       "3535"
      ]
     },
     "execution_count": 52,
     "metadata": {},
     "output_type": "execute_result"
    }
   ],
   "source": [
    "len(stars)"
   ]
  },
  {
   "cell_type": "code",
   "execution_count": 53,
   "metadata": {},
   "outputs": [],
   "source": [
    "#check the length \n",
    "stars = stars[:3500]"
   ]
  },
  {
   "cell_type": "code",
   "execution_count": 54,
   "metadata": {},
   "outputs": [],
   "source": [
    "#create  a dataframe from these collected lists of data\n",
    "\n",
    "df = pd.DataFrame({\"reviews\":reviews,\"stars\": stars, \"date\":date, \"country\": country})"
   ]
  },
  {
   "cell_type": "code",
   "execution_count": null,
   "metadata": {},
   "outputs": [],
   "source": [
    "df.head()"
   ]
  },
  {
   "cell_type": "code",
   "execution_count": null,
   "metadata": {},
   "outputs": [],
   "source": [
    "df.shape"
   ]
  },
  {
   "cell_type": "markdown",
   "metadata": {},
   "source": [
    "Export the data into a csv format"
   ]
  },
  {
   "cell_type": "code",
   "execution_count": null,
   "metadata": {},
   "outputs": [],
   "source": [
    "import os\n",
    "\n",
    "cwd = os.getcwd()\n",
    "df.to_csv(cwd+ \"/BA_reviews.csv\")"
   ]
  }
 ],
 "metadata": {
  "kernelspec": {
   "display_name": "Python 3 (ipykernel)",
   "language": "python",
   "name": "python3"
  },
  "language_info": {
   "codemirror_mode": {
    "name": "ipython",
    "version": 3
   },
   "file_extension": ".py",
   "mimetype": "text/x-python",
   "name": "python",
   "nbconvert_exporter": "python",
   "pygments_lexer": "ipython3",
   "version": "3.11.1"
  }
 },
 "nbformat": 4,
 "nbformat_minor": 4
}
