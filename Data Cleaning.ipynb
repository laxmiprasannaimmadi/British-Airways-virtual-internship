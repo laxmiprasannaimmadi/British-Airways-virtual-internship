{
 "cells": [
  {
   "cell_type": "markdown",
   "id": "12e3e8a9-61fb-46fe-908a-0e112e29a14b",
   "metadata": {},
   "source": [
    "Data Cleaning"
   ]
  },
  {
   "cell_type": "markdown",
   "id": "e0c2520a-4b24-4566-b4da-e03bff972eaa",
   "metadata": {},
   "source": [
    "Now since we have extracted data from the website, it is not cleaned and ready to be analyzed yet. The reviews section will need to be cleaned for punctuations, spellings and other characters."
   ]
  },
  {
   "cell_type": "code",
   "execution_count": 87,
   "id": "eeec1535-0bd4-43d6-b652-f51436d7f7b7",
   "metadata": {},
   "outputs": [],
   "source": [
    "#imports\n",
    "\n",
    "import pandas as pd\n",
    "import matplotlib.pyplot as plt\n",
    "import seaborn as sns\n",
    "import os\n",
    "\n",
    "#regex\n",
    "import re"
   ]
  },
  {
   "cell_type": "code",
   "execution_count": 88,
   "id": "ad85a5ea-4ad6-4666-b478-b09671b6548f",
   "metadata": {},
   "outputs": [],
   "source": [
    "#create a dataframe from csv file\n",
    "\n",
    "cwd = os.getcwd()\n",
    "\n",
    "df = pd.read_csv(cwd+\"/BA_reviews.csv\", index_col=0)"
   ]
  },
  {
   "cell_type": "code",
   "execution_count": 89,
   "id": "11c77cea-eda1-41ad-8703-6371a48eb8a6",
   "metadata": {},
   "outputs": [
    {
     "data": {
      "text/html": [
       "<div>\n",
       "<style scoped>\n",
       "    .dataframe tbody tr th:only-of-type {\n",
       "        vertical-align: middle;\n",
       "    }\n",
       "\n",
       "    .dataframe tbody tr th {\n",
       "        vertical-align: top;\n",
       "    }\n",
       "\n",
       "    .dataframe thead th {\n",
       "        text-align: right;\n",
       "    }\n",
       "</style>\n",
       "<table border=\"1\" class=\"dataframe\">\n",
       "  <thead>\n",
       "    <tr style=\"text-align: right;\">\n",
       "      <th></th>\n",
       "      <th>reviews</th>\n",
       "      <th>stars</th>\n",
       "      <th>date</th>\n",
       "      <th>country</th>\n",
       "    </tr>\n",
       "  </thead>\n",
       "  <tbody>\n",
       "    <tr>\n",
       "      <th>0</th>\n",
       "      <td>✅ Trip Verified |   Flight cancelled, not refu...</td>\n",
       "      <td>5.0</td>\n",
       "      <td>7th November 2024</td>\n",
       "      <td>Canada</td>\n",
       "    </tr>\n",
       "    <tr>\n",
       "      <th>1</th>\n",
       "      <td>✅ Trip Verified |   I had visa issues, and hen...</td>\n",
       "      <td>1.0</td>\n",
       "      <td>5th November 2024</td>\n",
       "      <td>India</td>\n",
       "    </tr>\n",
       "    <tr>\n",
       "      <th>2</th>\n",
       "      <td>✅ Trip Verified |   Singapore to Heathrow with...</td>\n",
       "      <td>1.0</td>\n",
       "      <td>5th November 2024</td>\n",
       "      <td>United Kingdom</td>\n",
       "    </tr>\n",
       "    <tr>\n",
       "      <th>3</th>\n",
       "      <td>✅ Trip Verified |   I recently travelled from ...</td>\n",
       "      <td>6.0</td>\n",
       "      <td>3rd November 2024</td>\n",
       "      <td>United Kingdom</td>\n",
       "    </tr>\n",
       "    <tr>\n",
       "      <th>4</th>\n",
       "      <td>Not Verified |  I paid for seats 80 A and B on...</td>\n",
       "      <td>1.0</td>\n",
       "      <td>3rd November 2024</td>\n",
       "      <td>United States</td>\n",
       "    </tr>\n",
       "  </tbody>\n",
       "</table>\n",
       "</div>"
      ],
      "text/plain": [
       "                                             reviews  stars  \\\n",
       "0  ✅ Trip Verified |   Flight cancelled, not refu...    5.0   \n",
       "1  ✅ Trip Verified |   I had visa issues, and hen...    1.0   \n",
       "2  ✅ Trip Verified |   Singapore to Heathrow with...    1.0   \n",
       "3  ✅ Trip Verified |   I recently travelled from ...    6.0   \n",
       "4  Not Verified |  I paid for seats 80 A and B on...    1.0   \n",
       "\n",
       "                date         country  \n",
       "0  7th November 2024          Canada  \n",
       "1  5th November 2024           India  \n",
       "2  5th November 2024  United Kingdom  \n",
       "3  3rd November 2024  United Kingdom  \n",
       "4  3rd November 2024   United States  "
      ]
     },
     "execution_count": 89,
     "metadata": {},
     "output_type": "execute_result"
    }
   ],
   "source": [
    "df.head()"
   ]
  },
  {
   "cell_type": "code",
   "execution_count": 90,
   "id": "30565ab1-eca0-42a0-b967-ba84324c66da",
   "metadata": {},
   "outputs": [
    {
     "data": {
      "text/plain": [
       "reviews     object\n",
       "stars      float64\n",
       "date        object\n",
       "country     object\n",
       "dtype: object"
      ]
     },
     "execution_count": 90,
     "metadata": {},
     "output_type": "execute_result"
    }
   ],
   "source": [
    "df.dtypes"
   ]
  },
  {
   "cell_type": "markdown",
   "id": "1da9b012-17a6-4070-a2db-749dea6ce754",
   "metadata": {},
   "source": [
    "We will also create a column which mentions if the user is verified or not."
   ]
  },
  {
   "cell_type": "code",
   "execution_count": 91,
   "id": "280f4a7e-e796-4078-8bf7-2dd697979648",
   "metadata": {},
   "outputs": [],
   "source": [
    "df['verified']  = df.reviews.str.contains(\"Trip Verified\")"
   ]
  },
  {
   "cell_type": "code",
   "execution_count": 92,
   "id": "a07adfca-6afc-4564-a206-fede851e8f2c",
   "metadata": {},
   "outputs": [
    {
     "data": {
      "text/plain": [
       "0        True\n",
       "1        True\n",
       "2        True\n",
       "3        True\n",
       "4       False\n",
       "        ...  \n",
       "3495    False\n",
       "3496    False\n",
       "3497    False\n",
       "3498    False\n",
       "3499    False\n",
       "Name: verified, Length: 3500, dtype: bool"
      ]
     },
     "execution_count": 92,
     "metadata": {},
     "output_type": "execute_result"
    }
   ],
   "source": [
    "df['verified'] "
   ]
  },
  {
   "cell_type": "markdown",
   "id": "76757271-d37c-498d-877b-2291dbddf924",
   "metadata": {},
   "source": [
    "Cleaning Reviews"
   ]
  },
  {
   "cell_type": "raw",
   "id": "59615986-910c-4097-a168-c0667085f29c",
   "metadata": {},
   "source": [
    "We will extract the column of reviews into a separate dataframe and clean it for semantic analysis"
   ]
  },
  {
   "cell_type": "code",
   "execution_count": 93,
   "id": "5c02e129-0c45-4779-bff8-c9094ac94e14",
   "metadata": {},
   "outputs": [],
   "source": [
    "#for lemmatization of words we will use nltk library\n",
    "from nltk.stem import WordNetLemmatizer\n",
    "from nltk.corpus import stopwords\n",
    "lemma = WordNetLemmatizer()\n",
    "\n",
    "\n",
    "reviews_data = df.reviews.str.strip(\"✅ Trip Verified |\")\n",
    "\n",
    "#create an empty list to collect cleaned data corpus\n",
    "corpus =[]\n",
    "\n",
    "#loop through each review, remove punctuations, small case it, join it and add it to corpus\n",
    "for rev in reviews_data:\n",
    "    rev = re.sub('[^a-zA-Z]',' ', rev)\n",
    "    rev = rev.lower()\n",
    "    rev = rev.split()\n",
    "    rev = [lemma.lemmatize(word) for word in rev if word not in set(stopwords.words(\"english\"))]\n",
    "    rev = \" \".join(rev)\n",
    "    corpus.append(rev)"
   ]
  },
  {
   "cell_type": "code",
   "execution_count": 94,
   "id": "f554eead-d895-46dc-ba92-44cf22db6849",
   "metadata": {},
   "outputs": [],
   "source": [
    "# add the corpus to the original dataframe\n",
    "\n",
    "df['corpus'] = corpus"
   ]
  },
  {
   "cell_type": "code",
   "execution_count": 95,
   "id": "15d69a4d-f113-4b8a-9921-3fba54f78193",
   "metadata": {},
   "outputs": [
    {
     "data": {
      "text/html": [
       "<div>\n",
       "<style scoped>\n",
       "    .dataframe tbody tr th:only-of-type {\n",
       "        vertical-align: middle;\n",
       "    }\n",
       "\n",
       "    .dataframe tbody tr th {\n",
       "        vertical-align: top;\n",
       "    }\n",
       "\n",
       "    .dataframe thead th {\n",
       "        text-align: right;\n",
       "    }\n",
       "</style>\n",
       "<table border=\"1\" class=\"dataframe\">\n",
       "  <thead>\n",
       "    <tr style=\"text-align: right;\">\n",
       "      <th></th>\n",
       "      <th>reviews</th>\n",
       "      <th>stars</th>\n",
       "      <th>date</th>\n",
       "      <th>country</th>\n",
       "      <th>verified</th>\n",
       "      <th>corpus</th>\n",
       "    </tr>\n",
       "  </thead>\n",
       "  <tbody>\n",
       "    <tr>\n",
       "      <th>0</th>\n",
       "      <td>✅ Trip Verified |   Flight cancelled, not refu...</td>\n",
       "      <td>5.0</td>\n",
       "      <td>7th November 2024</td>\n",
       "      <td>Canada</td>\n",
       "      <td>True</td>\n",
       "      <td>flight cancelled refunding money saying took f...</td>\n",
       "    </tr>\n",
       "    <tr>\n",
       "      <th>1</th>\n",
       "      <td>✅ Trip Verified |   I had visa issues, and hen...</td>\n",
       "      <td>1.0</td>\n",
       "      <td>5th November 2024</td>\n",
       "      <td>India</td>\n",
       "      <td>True</td>\n",
       "      <td>visa issue hence debarred flying ground staff ...</td>\n",
       "    </tr>\n",
       "    <tr>\n",
       "      <th>2</th>\n",
       "      <td>✅ Trip Verified |   Singapore to Heathrow with...</td>\n",
       "      <td>1.0</td>\n",
       "      <td>5th November 2024</td>\n",
       "      <td>United Kingdom</td>\n",
       "      <td>True</td>\n",
       "      <td>singapore heathrow ba two choice route economy...</td>\n",
       "    </tr>\n",
       "    <tr>\n",
       "      <th>3</th>\n",
       "      <td>✅ Trip Verified |   I recently travelled from ...</td>\n",
       "      <td>6.0</td>\n",
       "      <td>3rd November 2024</td>\n",
       "      <td>United Kingdom</td>\n",
       "      <td>True</td>\n",
       "      <td>recently travelled munich london british airwa...</td>\n",
       "    </tr>\n",
       "    <tr>\n",
       "      <th>4</th>\n",
       "      <td>Not Verified |  I paid for seats 80 A and B on...</td>\n",
       "      <td>1.0</td>\n",
       "      <td>3rd November 2024</td>\n",
       "      <td>United States</td>\n",
       "      <td>False</td>\n",
       "      <td>verified paid seat b flight heathrow boston pa...</td>\n",
       "    </tr>\n",
       "  </tbody>\n",
       "</table>\n",
       "</div>"
      ],
      "text/plain": [
       "                                             reviews  stars  \\\n",
       "0  ✅ Trip Verified |   Flight cancelled, not refu...    5.0   \n",
       "1  ✅ Trip Verified |   I had visa issues, and hen...    1.0   \n",
       "2  ✅ Trip Verified |   Singapore to Heathrow with...    1.0   \n",
       "3  ✅ Trip Verified |   I recently travelled from ...    6.0   \n",
       "4  Not Verified |  I paid for seats 80 A and B on...    1.0   \n",
       "\n",
       "                date         country  verified  \\\n",
       "0  7th November 2024          Canada      True   \n",
       "1  5th November 2024           India      True   \n",
       "2  5th November 2024  United Kingdom      True   \n",
       "3  3rd November 2024  United Kingdom      True   \n",
       "4  3rd November 2024   United States     False   \n",
       "\n",
       "                                              corpus  \n",
       "0  flight cancelled refunding money saying took f...  \n",
       "1  visa issue hence debarred flying ground staff ...  \n",
       "2  singapore heathrow ba two choice route economy...  \n",
       "3  recently travelled munich london british airwa...  \n",
       "4  verified paid seat b flight heathrow boston pa...  "
      ]
     },
     "execution_count": 95,
     "metadata": {},
     "output_type": "execute_result"
    }
   ],
   "source": [
    "df.head()"
   ]
  },
  {
   "cell_type": "raw",
   "id": "440da3e7-2883-44bb-82e5-200d7091d785",
   "metadata": {},
   "source": [
    "Cleaning/Format date"
   ]
  },
  {
   "cell_type": "code",
   "execution_count": 96,
   "id": "c867d39d-a8b6-4abf-b8f5-6c7b6fccf08d",
   "metadata": {},
   "outputs": [
    {
     "data": {
      "text/plain": [
       "reviews      object\n",
       "stars       float64\n",
       "date         object\n",
       "country      object\n",
       "verified       bool\n",
       "corpus       object\n",
       "dtype: object"
      ]
     },
     "execution_count": 96,
     "metadata": {},
     "output_type": "execute_result"
    }
   ],
   "source": [
    "df.dtypes"
   ]
  },
  {
   "cell_type": "code",
   "execution_count": 97,
   "id": "875f35f5-acb6-4e57-99d6-2a8120137c09",
   "metadata": {},
   "outputs": [],
   "source": [
    "# convert the date to datetime format\n",
    "\n",
    "df.date = pd.to_datetime(df['date'], format='mixed')"
   ]
  },
  {
   "cell_type": "code",
   "execution_count": 98,
   "id": "fbc2d7e4-94f1-42d6-b840-fee48ac21f3a",
   "metadata": {},
   "outputs": [
    {
     "data": {
      "text/plain": [
       "0   2024-11-07\n",
       "1   2024-11-05\n",
       "2   2024-11-05\n",
       "3   2024-11-03\n",
       "4   2024-11-03\n",
       "Name: date, dtype: datetime64[ns]"
      ]
     },
     "execution_count": 98,
     "metadata": {},
     "output_type": "execute_result"
    }
   ],
   "source": [
    "df.date.head()"
   ]
  },
  {
   "cell_type": "raw",
   "id": "be5dc654-c750-415f-a1b7-0700d3f245a0",
   "metadata": {},
   "source": [
    "Cleaning ratings with stars"
   ]
  },
  {
   "cell_type": "code",
   "execution_count": 99,
   "id": "a830127e-0515-413a-93c7-5f3f650f6e50",
   "metadata": {},
   "outputs": [
    {
     "data": {
      "text/plain": [
       "array([ 5.,  1.,  6.,  3.,  7.,  9.,  2.,  8.,  4., 10., nan])"
      ]
     },
     "execution_count": 99,
     "metadata": {},
     "output_type": "execute_result"
    }
   ],
   "source": [
    "#check for unique values\n",
    "df.stars.unique()"
   ]
  },
  {
   "cell_type": "code",
   "execution_count": 100,
   "id": "120e8267-e38a-4497-9c67-a2f1c67733d3",
   "metadata": {},
   "outputs": [
    {
     "data": {
      "text/plain": [
       "stars\n",
       "1.0     880\n",
       "2.0     406\n",
       "3.0     400\n",
       "8.0     339\n",
       "10.0    283\n",
       "7.0     273\n",
       "9.0     265\n",
       "5.0     246\n",
       "4.0     235\n",
       "6.0     170\n",
       "Name: count, dtype: int64"
      ]
     },
     "execution_count": 100,
     "metadata": {},
     "output_type": "execute_result"
    }
   ],
   "source": [
    "df['stars'].value_counts()"
   ]
  },
  {
   "cell_type": "raw",
   "id": "ae549a65-fb74-4dfb-b6d6-7a84c74f9538",
   "metadata": {},
   "source": [
    "There is 1 row having values \"None\" in the ratings. We will drop this 1 row."
   ]
  },
  {
   "cell_type": "code",
   "execution_count": 109,
   "id": "2798a49c-d5b2-490c-b290-8b05659dbb76",
   "metadata": {},
   "outputs": [
    {
     "data": {
      "text/plain": [
       "stars\n",
       "1     880\n",
       "2     406\n",
       "3     400\n",
       "8     339\n",
       "10    283\n",
       "7     273\n",
       "9     265\n",
       "5     246\n",
       "4     235\n",
       "6     170\n",
       "Name: count, dtype: int64"
      ]
     },
     "execution_count": 109,
     "metadata": {},
     "output_type": "execute_result"
    }
   ],
   "source": [
    "df.dropna(subset=[\"stars\"], inplace=True)\n",
    "df['stars'] = df['stars'].astype(int)\n",
    "df['stars'].value_counts()"
   ]
  },
  {
   "cell_type": "code",
   "execution_count": 110,
   "id": "7c11682a-e349-4b7f-8d45-ae0027cb78c4",
   "metadata": {},
   "outputs": [
    {
     "data": {
      "text/plain": [
       "array([ 5,  1,  6,  3,  7,  9,  2,  8,  4, 10])"
      ]
     },
     "execution_count": 110,
     "metadata": {},
     "output_type": "execute_result"
    }
   ],
   "source": [
    "#check the unique values again\n",
    "df.stars.unique()"
   ]
  },
  {
   "cell_type": "code",
   "execution_count": 111,
   "id": "62dcb364-a4c6-430d-9b9a-c8a0f75ee479",
   "metadata": {},
   "outputs": [
    {
     "data": {
      "text/plain": [
       "stars\n",
       "1     880\n",
       "2     406\n",
       "3     400\n",
       "8     339\n",
       "10    283\n",
       "7     273\n",
       "9     265\n",
       "5     246\n",
       "4     235\n",
       "6     170\n",
       "Name: count, dtype: int64"
      ]
     },
     "execution_count": 111,
     "metadata": {},
     "output_type": "execute_result"
    }
   ],
   "source": [
    "df.stars.value_counts()"
   ]
  },
  {
   "cell_type": "markdown",
   "id": "8c63b5bf-e4fe-4409-90b5-af8c469776be",
   "metadata": {},
   "source": [
    "Check for null Values"
   ]
  },
  {
   "cell_type": "code",
   "execution_count": 112,
   "id": "57a858ae-0b5e-4f8d-a5fb-d39a5657f8a7",
   "metadata": {},
   "outputs": [
    {
     "data": {
      "text/plain": [
       "reviews  stars  date   country  verified  corpus\n",
       "False    False  False  False    False     False     3496\n",
       "                       True     False     False        1\n",
       "Name: count, dtype: int64"
      ]
     },
     "execution_count": 112,
     "metadata": {},
     "output_type": "execute_result"
    }
   ],
   "source": [
    "df.isnull().value_counts()"
   ]
  },
  {
   "cell_type": "code",
   "execution_count": 105,
   "id": "b49e42a7-51ce-4dfd-b94d-6f0490508964",
   "metadata": {},
   "outputs": [
    {
     "data": {
      "text/plain": [
       "country\n",
       "False    3499\n",
       "True        1\n",
       "Name: count, dtype: int64"
      ]
     },
     "execution_count": 105,
     "metadata": {},
     "output_type": "execute_result"
    }
   ],
   "source": [
    "df.country.isnull().value_counts()"
   ]
  },
  {
   "cell_type": "markdown",
   "id": "f692e737-6bd7-463e-9323-f9e9eaa99394",
   "metadata": {},
   "source": [
    "We have 1 missing value for country. For this we can just remove that one review (row) from the dataframe.\n"
   ]
  },
  {
   "cell_type": "code",
   "execution_count": 113,
   "id": "e49306c8-0109-4bcd-b2d5-7bab486b8d0e",
   "metadata": {},
   "outputs": [],
   "source": [
    "#drop the rows using index where the country value is null\n",
    "df.drop(df[df.country.isnull() == True].index, axis=0, inplace=True)"
   ]
  },
  {
   "cell_type": "code",
   "execution_count": 114,
   "id": "eb572f6b-21e5-485b-b02c-6487c380e6dd",
   "metadata": {},
   "outputs": [
    {
     "data": {
      "text/plain": [
       "(3496, 6)"
      ]
     },
     "execution_count": 114,
     "metadata": {},
     "output_type": "execute_result"
    }
   ],
   "source": [
    "df.shape"
   ]
  },
  {
   "cell_type": "code",
   "execution_count": 115,
   "id": "0554bc64-ddc0-4e90-8b08-ea062a78b86a",
   "metadata": {},
   "outputs": [
    {
     "data": {
      "text/html": [
       "<div>\n",
       "<style scoped>\n",
       "    .dataframe tbody tr th:only-of-type {\n",
       "        vertical-align: middle;\n",
       "    }\n",
       "\n",
       "    .dataframe tbody tr th {\n",
       "        vertical-align: top;\n",
       "    }\n",
       "\n",
       "    .dataframe thead th {\n",
       "        text-align: right;\n",
       "    }\n",
       "</style>\n",
       "<table border=\"1\" class=\"dataframe\">\n",
       "  <thead>\n",
       "    <tr style=\"text-align: right;\">\n",
       "      <th></th>\n",
       "      <th>reviews</th>\n",
       "      <th>stars</th>\n",
       "      <th>date</th>\n",
       "      <th>country</th>\n",
       "      <th>verified</th>\n",
       "      <th>corpus</th>\n",
       "    </tr>\n",
       "  </thead>\n",
       "  <tbody>\n",
       "    <tr>\n",
       "      <th>0</th>\n",
       "      <td>✅ Trip Verified |   Flight cancelled, not refu...</td>\n",
       "      <td>5</td>\n",
       "      <td>2024-11-07</td>\n",
       "      <td>Canada</td>\n",
       "      <td>True</td>\n",
       "      <td>flight cancelled refunding money saying took f...</td>\n",
       "    </tr>\n",
       "    <tr>\n",
       "      <th>1</th>\n",
       "      <td>✅ Trip Verified |   I had visa issues, and hen...</td>\n",
       "      <td>1</td>\n",
       "      <td>2024-11-05</td>\n",
       "      <td>India</td>\n",
       "      <td>True</td>\n",
       "      <td>visa issue hence debarred flying ground staff ...</td>\n",
       "    </tr>\n",
       "    <tr>\n",
       "      <th>2</th>\n",
       "      <td>✅ Trip Verified |   Singapore to Heathrow with...</td>\n",
       "      <td>1</td>\n",
       "      <td>2024-11-05</td>\n",
       "      <td>United Kingdom</td>\n",
       "      <td>True</td>\n",
       "      <td>singapore heathrow ba two choice route economy...</td>\n",
       "    </tr>\n",
       "    <tr>\n",
       "      <th>3</th>\n",
       "      <td>✅ Trip Verified |   I recently travelled from ...</td>\n",
       "      <td>6</td>\n",
       "      <td>2024-11-03</td>\n",
       "      <td>United Kingdom</td>\n",
       "      <td>True</td>\n",
       "      <td>recently travelled munich london british airwa...</td>\n",
       "    </tr>\n",
       "    <tr>\n",
       "      <th>4</th>\n",
       "      <td>Not Verified |  I paid for seats 80 A and B on...</td>\n",
       "      <td>1</td>\n",
       "      <td>2024-11-03</td>\n",
       "      <td>United States</td>\n",
       "      <td>False</td>\n",
       "      <td>verified paid seat b flight heathrow boston pa...</td>\n",
       "    </tr>\n",
       "    <tr>\n",
       "      <th>...</th>\n",
       "      <td>...</td>\n",
       "      <td>...</td>\n",
       "      <td>...</td>\n",
       "      <td>...</td>\n",
       "      <td>...</td>\n",
       "      <td>...</td>\n",
       "    </tr>\n",
       "    <tr>\n",
       "      <th>3491</th>\n",
       "      <td>BA268 LAX-LHR seat WT+ on the A380. Check in w...</td>\n",
       "      <td>1</td>\n",
       "      <td>2014-11-06</td>\n",
       "      <td>United Kingdom</td>\n",
       "      <td>False</td>\n",
       "      <td>ba lax lhr seat wt check quick security onewor...</td>\n",
       "    </tr>\n",
       "    <tr>\n",
       "      <th>3492</th>\n",
       "      <td>Travelled from Gatwick to Orlando on the 24th ...</td>\n",
       "      <td>10</td>\n",
       "      <td>2014-11-06</td>\n",
       "      <td>United Kingdom</td>\n",
       "      <td>False</td>\n",
       "      <td>avelled gatwick orlando th october ba disappoi...</td>\n",
       "    </tr>\n",
       "    <tr>\n",
       "      <th>3493</th>\n",
       "      <td>LGW to Cancun - flew with BA in CW. The galler...</td>\n",
       "      <td>7</td>\n",
       "      <td>2014-11-06</td>\n",
       "      <td>United Kingdom</td>\n",
       "      <td>False</td>\n",
       "      <td>lgw cancun flew ba cw gallery lounge gatwick o...</td>\n",
       "    </tr>\n",
       "    <tr>\n",
       "      <th>3494</th>\n",
       "      <td>31.10.14 - LHR to Berlin Tegel. Flight out goo...</td>\n",
       "      <td>9</td>\n",
       "      <td>2014-11-06</td>\n",
       "      <td>United Kingdom</td>\n",
       "      <td>False</td>\n",
       "      <td>lhr berlin tegel flight good modern plane clea...</td>\n",
       "    </tr>\n",
       "    <tr>\n",
       "      <th>3495</th>\n",
       "      <td>Round-the-Worldticket. JFK-LHR-TXL on 28/29 Ju...</td>\n",
       "      <td>10</td>\n",
       "      <td>2014-11-06</td>\n",
       "      <td>Australia</td>\n",
       "      <td>False</td>\n",
       "      <td>round worldticket jfk lhr txl july txl lhr man...</td>\n",
       "    </tr>\n",
       "  </tbody>\n",
       "</table>\n",
       "<p>3496 rows × 6 columns</p>\n",
       "</div>"
      ],
      "text/plain": [
       "                                                reviews  stars       date  \\\n",
       "0     ✅ Trip Verified |   Flight cancelled, not refu...      5 2024-11-07   \n",
       "1     ✅ Trip Verified |   I had visa issues, and hen...      1 2024-11-05   \n",
       "2     ✅ Trip Verified |   Singapore to Heathrow with...      1 2024-11-05   \n",
       "3     ✅ Trip Verified |   I recently travelled from ...      6 2024-11-03   \n",
       "4     Not Verified |  I paid for seats 80 A and B on...      1 2024-11-03   \n",
       "...                                                 ...    ...        ...   \n",
       "3491  BA268 LAX-LHR seat WT+ on the A380. Check in w...      1 2014-11-06   \n",
       "3492  Travelled from Gatwick to Orlando on the 24th ...     10 2014-11-06   \n",
       "3493  LGW to Cancun - flew with BA in CW. The galler...      7 2014-11-06   \n",
       "3494  31.10.14 - LHR to Berlin Tegel. Flight out goo...      9 2014-11-06   \n",
       "3495  Round-the-Worldticket. JFK-LHR-TXL on 28/29 Ju...     10 2014-11-06   \n",
       "\n",
       "             country  verified  \\\n",
       "0             Canada      True   \n",
       "1              India      True   \n",
       "2     United Kingdom      True   \n",
       "3     United Kingdom      True   \n",
       "4      United States     False   \n",
       "...              ...       ...   \n",
       "3491  United Kingdom     False   \n",
       "3492  United Kingdom     False   \n",
       "3493  United Kingdom     False   \n",
       "3494  United Kingdom     False   \n",
       "3495       Australia     False   \n",
       "\n",
       "                                                 corpus  \n",
       "0     flight cancelled refunding money saying took f...  \n",
       "1     visa issue hence debarred flying ground staff ...  \n",
       "2     singapore heathrow ba two choice route economy...  \n",
       "3     recently travelled munich london british airwa...  \n",
       "4     verified paid seat b flight heathrow boston pa...  \n",
       "...                                                 ...  \n",
       "3491  ba lax lhr seat wt check quick security onewor...  \n",
       "3492  avelled gatwick orlando th october ba disappoi...  \n",
       "3493  lgw cancun flew ba cw gallery lounge gatwick o...  \n",
       "3494  lhr berlin tegel flight good modern plane clea...  \n",
       "3495  round worldticket jfk lhr txl july txl lhr man...  \n",
       "\n",
       "[3496 rows x 6 columns]"
      ]
     },
     "execution_count": 115,
     "metadata": {},
     "output_type": "execute_result"
    }
   ],
   "source": [
    "#resetting the index\n",
    "df.reset_index(drop=True)"
   ]
  },
  {
   "cell_type": "markdown",
   "id": "3fac560f-30cf-4c29-97d0-9474d6320387",
   "metadata": {},
   "source": [
    "Now our data is all cleaned and ready for data visualization and data analysis."
   ]
  },
  {
   "cell_type": "code",
   "execution_count": 116,
   "id": "da5a1c7f-ebed-49f7-acde-f0fc96f18b72",
   "metadata": {},
   "outputs": [],
   "source": [
    "# export the cleaned data\n",
    "\n",
    "df.to_csv(cwd + \"/cleaned-BA-reviews.csv\")"
   ]
  },
  {
   "cell_type": "code",
   "execution_count": null,
   "id": "23267771-3591-43a4-88e1-057a2d167623",
   "metadata": {},
   "outputs": [],
   "source": []
  }
 ],
 "metadata": {
  "kernelspec": {
   "display_name": "Python 3 (ipykernel)",
   "language": "python",
   "name": "python3"
  },
  "language_info": {
   "codemirror_mode": {
    "name": "ipython",
    "version": 3
   },
   "file_extension": ".py",
   "mimetype": "text/x-python",
   "name": "python",
   "nbconvert_exporter": "python",
   "pygments_lexer": "ipython3",
   "version": "3.11.1"
  }
 },
 "nbformat": 4,
 "nbformat_minor": 5
}
